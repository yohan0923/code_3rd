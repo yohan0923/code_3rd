{
  "nbformat": 4,
  "nbformat_minor": 0,
  "metadata": {
    "colab": {
      "provenance": [],
      "authorship_tag": "ABX9TyMReA4xd9DQEbaArGED34nX",
      "include_colab_link": true
    },
    "kernelspec": {
      "name": "python3",
      "display_name": "Python 3"
    },
    "language_info": {
      "name": "python"
    }
  },
  "cells": [
    {
      "cell_type": "markdown",
      "metadata": {
        "id": "view-in-github",
        "colab_type": "text"
      },
      "source": [
        "<a href=\"https://colab.research.google.com/github/yohan0923/code_3rd/blob/main/CTA_Array.ipynb\" target=\"_parent\"><img src=\"https://colab.research.google.com/assets/colab-badge.svg\" alt=\"Open In Colab\"/></a>"
      ]
    },
    {
      "cell_type": "markdown",
      "source": [
        "1. 배열의 선언\n",
        "  - 일반 변수의 선언: 변수명 = 변수의 값\n",
        "  - 배열의 변수 선언: 변수명 = [ , , ]"
      ],
      "metadata": {
        "id": "NtbE2evjMGz4"
      }
    },
    {
      "cell_type": "code",
      "execution_count": 2,
      "metadata": {
        "colab": {
          "base_uri": "https://localhost:8080/"
        },
        "id": "2o5G1QOwI9J1",
        "outputId": "c6195c0d-62f4-4054-efcb-b2c443c2bb53"
      },
      "outputs": [
        {
          "output_type": "stream",
          "name": "stdout",
          "text": [
            "아바타\n",
            "어벤져스\n"
          ]
        }
      ],
      "source": [
        "movie_list = [\"아바타\", \"타이타닉\", \"스타워즈\", \"쥬라기 월드\", \"어벤져스\"]\n",
        "print(movie_list[0])\n",
        "print(movie_list[4])"
      ]
    },
    {
      "cell_type": "markdown",
      "source": [
        "2.요일을 배열로 선언하라\n",
        " - 변수명: day_list\n",
        " *요일 : 월(mon.)화(Tues)수(Wed.) 목(Thur)금(Fri.)토(Sat.) 일(Sun.)"
      ],
      "metadata": {
        "id": "o17gZi2TOYEW"
      }
    },
    {
      "cell_type": "code",
      "source": [
        "day_list = [\"월(Mon)\", \"화(Tues)\",\"수(Wed.)\", \"목(Thur)\", \"금(Fri.)\",\"토(Sat.)\", \"일(Sun.)\"]\n",
        "print(day_list[0])\n",
        "print(day_list[1])\n",
        "print(day_list[2])\n",
        "print(day_list[3])\n",
        "print(day_list[4])\n",
        "print(day_list[5])\n",
        "print(day_list[6])"
      ],
      "metadata": {
        "colab": {
          "base_uri": "https://localhost:8080/"
        },
        "id": "yFB9zEFqOXff",
        "outputId": "417b3348-ff98-4142-b2f8-4bf9ca514491"
      },
      "execution_count": 5,
      "outputs": [
        {
          "output_type": "stream",
          "name": "stdout",
          "text": [
            "월(Mon)\n",
            "화(Tues)\n",
            "수(Wed.)\n",
            "목(Thur)\n",
            "금(Fri.)\n",
            "토(Sat.)\n",
            "일(Sun.)\n"
          ]
        }
      ]
    }
  ]
}