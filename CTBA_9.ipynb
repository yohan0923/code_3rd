{
  "nbformat": 4,
  "nbformat_minor": 0,
  "metadata": {
    "colab": {
      "provenance": [],
      "authorship_tag": "ABX9TyNQV2R/aHdhyCNKx+OyFrXU",
      "include_colab_link": true
    },
    "kernelspec": {
      "name": "python3",
      "display_name": "Python 3"
    },
    "language_info": {
      "name": "python"
    }
  },
  "cells": [
    {
      "cell_type": "markdown",
      "metadata": {
        "id": "view-in-github",
        "colab_type": "text"
      },
      "source": [
        "<a href=\"https://colab.research.google.com/github/yohan0923/code_3rd/blob/main/CTBA_9.ipynb\" target=\"_parent\"><img src=\"https://colab.research.google.com/assets/colab-badge.svg\" alt=\"Open In Colab\"/></a>"
      ]
    },
    {
      "cell_type": "markdown",
      "source": [
        "1. 두가지 이상의 선택, 다방향 선택구조 코딩\n",
        " - 배송료처리 3가지로 작성\n",
        " - 변수:price, 가격10만원 이상 0원, 2만원 이상 3000원, 그외 5000원"
      ],
      "metadata": {
        "id": "ENZRQ4mFMiWi"
      }
    },
    {
      "cell_type": "code",
      "source": [
        "# \"배송료를 계산합니다.\" 라는 문장을 출력합니다.\n",
        "print(\"배송료를 계산합니다. \")\n",
        "\n",
        "# \"#\" 문자를 30번 반복하여 출력합니다. 보통 이런 방식으로 구분선을 표시합니다.\n",
        "print(\"#\" * 30 )\n",
        "\n",
        "# 사용자에게 구입금액을 입력하라는 메시지를 보여주고, 그 값을 정수형으로 변환하여 price 변수에 저장합니다.\n",
        "price = int(input(\"구입금액 입력: \"))\n",
        "\n",
        "# 입력받은 구입금액이 10000 이상일 경우, 배송비는 0입니다.\n",
        "if price >= 10000:\n",
        " shipping_cost = 0\n",
        "\n",
        "# 그렇지 않고 구입금액이 20000 이상일 경우, 배송비는 3000입니다.\n",
        "else:\n",
        "  if price >= 20000:\n",
        "    shipping_cost = 3000\n",
        "\n",
        "  # 그렇지 않고 구입금액이 20000 미만일 경우, 배송비는 5000입니다.\n",
        "  else:\n",
        "    shipping_cost = 5000\n",
        "\n",
        "# 최종적으로 계산된 배송비를 출력합니다.\n",
        "print(f'배송료는 {shipping_cost} 입니다.')"
      ],
      "metadata": {
        "colab": {
          "base_uri": "https://localhost:8080/"
        },
        "id": "yHXHXVxQM8rE",
        "outputId": "27b2a3f0-3581-4423-ff43-5f9d48d2437a"
      },
      "execution_count": 1,
      "outputs": [
        {
          "output_type": "stream",
          "name": "stdout",
          "text": [
            "배송료를 계산합니다. \n",
            "##############################\n",
            "구입금액 입력: 19000\n",
            "배송료는 0 입니다.\n"
          ]
        }
      ]
    },
    {
      "cell_type": "markdown",
      "source": [
        "환영합니다. 5번 출력. 10번 출력, 30번 출력"
      ],
      "metadata": {
        "id": "RPlPVB3FOSfQ"
      }
    },
    {
      "cell_type": "code",
      "source": [
        "print(\"환영합니다.\")  # \"환영합니다.\"라는 문자열을 5번 출력\n",
        "print(\"환영합니다.\")\n",
        "print(\"환영합니다.\")\n",
        "print(\"환영합니다.\")\n",
        "print(\"환영합니다.\")"
      ],
      "metadata": {
        "colab": {
          "base_uri": "https://localhost:8080/"
        },
        "id": "zn8CDDK_ObYz",
        "outputId": "3fe17067-4fc8-4670-90ac-598d2c2e5022"
      },
      "execution_count": null,
      "outputs": [
        {
          "output_type": "stream",
          "name": "stdout",
          "text": [
            "환영합니다.\n",
            "환영합니다.\n",
            "환영합니다.\n",
            "환영합니다.\n",
            "환영합니다.\n"
          ]
        }
      ]
    },
    {
      "cell_type": "code",
      "source": [
        "print(\"환영합니다.\\n\" * 5)  # \"환영합니다.\\n\"라는 문자열을 5번 출력"
      ],
      "metadata": {
        "colab": {
          "base_uri": "https://localhost:8080/"
        },
        "id": "94tJtXMLOlHp",
        "outputId": "44df8cf9-9027-42fd-c466-9e2d3d98626a"
      },
      "execution_count": null,
      "outputs": [
        {
          "output_type": "stream",
          "name": "stdout",
          "text": [
            "환영합니다.\n",
            "환영합니다.\n",
            "환영합니다.\n",
            "환영합니다.\n",
            "환영합니다.\n",
            "\n"
          ]
        }
      ]
    },
    {
      "cell_type": "code",
      "source": [
        "# 카운트를 0으로 초기화\n",
        "count = 0\n",
        "\n",
        "# 카운트가 5 이하인 동안 반복\n",
        "while count <= 5:\n",
        "  # \"(\" + 카운트 + \")\" + \"환영합니다.\" 형태로 출력\n",
        "  print(\"(\",count,\")\", \"환영합니다.\")\n",
        "\n",
        "  # f-string을 사용해 같은 내용을 출력. 이 방법이 더 간결하고 가독성이 좋습니다.\n",
        "  print(F'({count})', \"환영합니다\")\n",
        "\n",
        "  # 카운트를 1 증가. 이 부분이 없으면 무한 반복에 빠질 수 있습니다.\n",
        "  #count = count + 1 의 축약형태입니다.\n",
        "  count += 1"
      ],
      "metadata": {
        "colab": {
          "base_uri": "https://localhost:8080/"
        },
        "id": "C9A6xEfKQp76",
        "outputId": "b1b5dd6d-3565-46c1-d680-2058bdbed4cf"
      },
      "execution_count": null,
      "outputs": [
        {
          "output_type": "stream",
          "name": "stdout",
          "text": [
            "( 0 ) 환영합니다.\n",
            "(0) 환영합니다\n",
            "( 1 ) 환영합니다.\n",
            "(1) 환영합니다\n",
            "( 2 ) 환영합니다.\n",
            "(2) 환영합니다\n",
            "( 3 ) 환영합니다.\n",
            "(3) 환영합니다\n",
            "( 4 ) 환영합니다.\n",
            "(4) 환영합니다\n",
            "( 5 ) 환영합니다.\n",
            "(5) 환영합니다\n"
          ]
        }
      ]
    },
    {
      "cell_type": "markdown",
      "source": [
        "3. 0부터 9까지 출력하는 코드 작성\n",
        " - 변수: x"
      ],
      "metadata": {
        "id": "ARssK67AUtGG"
      }
    },
    {
      "cell_type": "code",
      "source": [
        "# x를 0으로 초기화\n",
        "x = 0\n",
        "\n",
        "# x가 10 미만인 동안 반복\n",
        "while x < 10:\n",
        "  # x를 출력하되, 줄바꿈 대신 공백(' ')을 뒤에 붙입니다.\n",
        "  print(x, end=' ')\n",
        "\n",
        "  # x를 1 증가시킵니다.\n",
        "  x += 1"
      ],
      "metadata": {
        "colab": {
          "base_uri": "https://localhost:8080/"
        },
        "id": "o473CEQAU3sp",
        "outputId": "8a8fa3f8-01e0-4112-d154-7d73c400337b"
      },
      "execution_count": null,
      "outputs": [
        {
          "output_type": "stream",
          "name": "stdout",
          "text": [
            "0 1 2 3 4 5 6 7 8 9 "
          ]
        }
      ]
    },
    {
      "cell_type": "markdown",
      "source": [
        "4. 1부터 10까지 정수의 합을 계신히여 출력하는 코드"
      ],
      "metadata": {
        "id": "qE74CcY5YbhJ"
      }
    },
    {
      "cell_type": "code",
      "source": [
        "# x를 1로 초기화\n",
        "x = 1\n",
        "\n",
        "# 합계를 저장할 변수 total을 0으로 초기화\n",
        "total = 0\n",
        "\n",
        "# x가 10 이하인 동안 반복\n",
        "while x <= 10:\n",
        "  # 현재 x 값을 total에 더해서 total을 갱신\n",
        "  total = total + x\n",
        "\n",
        "  # x를 1 증가시킵니다.\n",
        "  x += 1\n",
        "\n",
        "# 반복이 끝난 후 total 값을 출력\n",
        "print(total)"
      ],
      "metadata": {
        "colab": {
          "base_uri": "https://localhost:8080/"
        },
        "id": "WPpop6jEYinQ",
        "outputId": "0a246a9c-c63a-48fe-d31f-cd8bf379d289"
      },
      "execution_count": null,
      "outputs": [
        {
          "output_type": "stream",
          "name": "stdout",
          "text": [
            "55\n"
          ]
        }
      ]
    },
    {
      "cell_type": "code",
      "source": [
        "# total 변수를 초기화합니다.\n",
        "total = 0\n",
        "\n",
        "# x가 10 이하인 동안 반복합니다.\n",
        "x = 1\n",
        "while x <= 10:\n",
        "  # x를 total에 더합니다.\n",
        "  total = total + x\n",
        "\n",
        "  # x의 값을 1 증가시킵니다.\n",
        "  x += 1\n",
        "\n",
        "# 반복문이 종료된 후 total의 값을 출력합니다.\n",
        "print(total)"
      ],
      "metadata": {
        "id": "54JwSRrKY_SD"
      },
      "execution_count": null,
      "outputs": []
    },
    {
      "cell_type": "markdown",
      "source": [
        "5. 3-6-9 게임 (3의 배수 판단): 3의 배수를 3으로 나누면 나머지가 0이 되므로(i mod 3)의 값이 0이면 박수를 출력, 아니면 숫자를 출력해주는 코드"
      ],
      "metadata": {
        "id": "yKf8qXFoVnXZ"
      }
    },
    {
      "cell_type": "code",
      "source": [
        "i = 1                              # 변수 i 는 0으로 선언\n",
        "while i <= 30:                     # 반복문 while사용해서 I가 30보다 작거나 같을때\n",
        "  if i % 3 == 0:                   # 만약 i값을 3으로 나눈 나머지가 0이면\n",
        "    print(\"박수\",end= ' ')         # 박수를 출력하고 공백을 만듦\n",
        "else:                              # 위의 것이 아니면,\n",
        "  print(i,end= ' ')                # i값만 출력하고 공백 하나 만듦\n",
        "i += 1                             # 변수 i값에 i와 1을 더해서 다시 변수 1에 선언"
      ],
      "metadata": {
        "id": "TsRkR8wQWICp"
      },
      "execution_count": null,
      "outputs": []
    },
    {
      "cell_type": "code",
      "source": [
        "for num in range(1, 11):         # 1부터 11까지의 숫자를 반복\n",
        "  if num % 3 == 0:               # 숫자(num)를 3으로 나눈 나머지가 0인 경우\n",
        "    print(\"박수\", end=' ')       # 박수를 출력하고 공백 만듦\n",
        "  else:                          # 그게 아니면\n",
        "    print(num, end=' ')          # 숫자만 출력하고 공백 만듧"
      ],
      "metadata": {
        "colab": {
          "base_uri": "https://localhost:8080/"
        },
        "id": "vEuwIyISZLEw",
        "outputId": "2f1c78f0-ff18-4abd-95d2-cdcd8d3b5a60"
      },
      "execution_count": null,
      "outputs": [
        {
          "output_type": "stream",
          "name": "stdout",
          "text": [
            "1 2 박수 4 5 박수 7 8 박수 10 "
          ]
        }
      ]
    },
    {
      "cell_type": "markdown",
      "source": [
        "6. 팩토리얼 계산하는 코드 작성"
      ],
      "metadata": {
        "id": "6e5lzpHJaeZq"
      }
    },
    {
      "cell_type": "code",
      "source": [
        "# i를 5로 초기화\n",
        "i = 5\n",
        "\n",
        "# 팩토리얼을 저장할 변수 factorial을 1로 초기화\n",
        "factorial = 1\n",
        "\n",
        "# i가 1 이상인 동안 반복\n",
        "while i >= 1:\n",
        "  # 현재 i 값을 factorial에 곱해서 factorial을 갱신\n",
        "  factorial = factorial * i\n",
        "\n",
        "  # i를 1 감소시킵니다.\n",
        "  i -= 1\n",
        "\n",
        "# 반복이 끝난 후 factorial 값을 출력\n",
        "print(factorial)"
      ],
      "metadata": {
        "colab": {
          "base_uri": "https://localhost:8080/"
        },
        "id": "96oO55BGajYo",
        "outputId": "e87eeb3a-490e-41ec-a173-820fbeb61220"
      },
      "execution_count": null,
      "outputs": [
        {
          "output_type": "stream",
          "name": "stdout",
          "text": [
            "1\n"
          ]
        }
      ]
    },
    {
      "cell_type": "code",
      "source": [
        "# 사용자로부터 팩토리얼을 계산할 숫자를 입력받습니다.\n",
        "num = int(input(\"팩토리얼 값 입력: \"))\n",
        "\n",
        "# 팩토리얼을 저장할 변수 factorial을 1로 초기화\n",
        "factorial = 1\n",
        "\n",
        "# num이 1 이상인 동안 반복\n",
        "while num >= 1:\n",
        "  # 현재 num 값을 factorial에 곱해서 factorial을 갱신\n",
        "  factorial = factorial * num\n",
        "\n",
        "  # num을 1 감소시킵니다.\n",
        "  num -= 1\n",
        "\n",
        "# 반복이 끝난 후 factorial 값을 출력\n",
        "print(\"계산된 팩토리얼 값은: \", factorial)"
      ],
      "metadata": {
        "colab": {
          "base_uri": "https://localhost:8080/"
        },
        "id": "VnXCmeqsbfvL",
        "outputId": "c705776d-7aec-41a1-e09a-3c51a171fad9"
      },
      "execution_count": null,
      "outputs": [
        {
          "output_type": "stream",
          "name": "stdout",
          "text": [
            "팩토리얼 갑 입력: 5\n",
            "계산된 팩토리얼 값은:  120\n"
          ]
        }
      ]
    }
  ]
}