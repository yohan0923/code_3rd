{
  "nbformat": 4,
  "nbformat_minor": 0,
  "metadata": {
    "colab": {
      "provenance": [],
      "authorship_tag": "ABX9TyOXDtI2J/0LVsxQjKU5areg",
      "include_colab_link": true
    },
    "kernelspec": {
      "name": "python3",
      "display_name": "Python 3"
    },
    "language_info": {
      "name": "python"
    }
  },
  "cells": [
    {
      "cell_type": "markdown",
      "metadata": {
        "id": "view-in-github",
        "colab_type": "text"
      },
      "source": [
        "<a href=\"https://colab.research.google.com/github/yohan0923/code_3rd/blob/main/CTBL_1.ipynb\" target=\"_parent\"><img src=\"https://colab.research.google.com/assets/colab-badge.svg\" alt=\"Open In Colab\"/></a>"
      ]
    },
    {
      "cell_type": "markdown",
      "source": [
        "1. 학생으로부터 성적을 입력받아 합격유무를 출력하는 코드 작성\n",
        "- 사용 변수: Grade\n",
        "- 사용 수식: Grade >=70:"
      ],
      "metadata": {
        "id": "9oit9NT002Ii"
      }
    },
    {
      "cell_type": "code",
      "source": [
        "# 사용자로부터 성적을 입력받습니다.\n",
        "Grade = int(input(\"성적입력: \"))\n",
        "\n",
        "# 성적이 70점 이상이면 합격이라는 메시지를 출력합니다.\n",
        "if Grade >= 70:\n",
        "  print(\"70점 이상이므로 합격\")\n",
        "\n",
        "# 성적이 70점 이하면 불합격이라는 메시지를 출력합니다.\n",
        "else:\n",
        "  print(\"70점 이하는 불합격\")"
      ],
      "metadata": {
        "colab": {
          "base_uri": "https://localhost:8080/"
        },
        "id": "kLkPdE6i1PrT",
        "outputId": "c411142b-6a4f-4305-d3d5-3867b4675cad"
      },
      "execution_count": null,
      "outputs": [
        {
          "output_type": "stream",
          "name": "stdout",
          "text": [
            "성적입력: 80\n",
            "70점 이상이므로 합격\n"
          ]
        }
      ]
    },
    {
      "cell_type": "markdown",
      "source": [
        "2. 쇼핑몰의 배송료를 계산하는 코드 작성\n",
        " - 변수명 : price, shipping_cost\n",
        " - 수식 : price >= 20000\n",
        " - shipping_cost = 3000"
      ],
      "metadata": {
        "id": "6Wr1AFKR3rW9"
      }
    },
    {
      "cell_type": "code",
      "source": [
        "# 사용자로부터 구입 금액을 입력받습니다.\n",
        "price = int(input(\"구입 금액 입력: \"))\n",
        "\n",
        "# 구입 금액이 20000원 이상이면 배송료는 0원입니다.\n",
        "if price >= 20000:\n",
        "   shipping_cost = 0\n",
        "   print(f'구입금액이 {price} 원 이상입니다.')\n",
        "\n",
        "# 구입 금액이 20000원 미만이면 배송료는 3000원입니다.\n",
        "else:\n",
        "  shipping_cost = 3000\n",
        "  print(\"구입금액이 20000원 이하 입니다\")\n",
        "\n",
        "# 사용자의 배송료를 출력합니다.\n",
        "print(f'회원님의 배송료는 {shipping_cost} 입니다.')"
      ],
      "metadata": {
        "colab": {
          "base_uri": "https://localhost:8080/"
        },
        "id": "qHxkXe0_42JG",
        "outputId": "195d47a6-64db-4df9-d88c-2ddae8c8d8ca"
      },
      "execution_count": null,
      "outputs": [
        {
          "output_type": "stream",
          "name": "stdout",
          "text": [
            "구입 금액 입력: 20000\n",
            "구입금액이 20000 원 이상입니다.\n",
            "회원님의 배송료는 0 입니다.\n"
          ]
        }
      ]
    },
    {
      "cell_type": "markdown",
      "source": [
        "3. 근무시간에 따라 초과근무와 정상근무를 판별하는 코드 작성\n",
        " - 변수:  work_hour\n",
        " - 수식: >=, 기준시간 : 72시간"
      ],
      "metadata": {
        "id": "kJGtPyj078KX"
      }
    },
    {
      "cell_type": "code",
      "source": [
        "# 사용자로부터 근무 시간을 입력받습니다.\n",
        "work_hour = int(input(\"근무시간입력: \"))\n",
        "\n",
        "# 근무 시간이 72시간 이상이면 초과근무라는 메시지를 출력합니다.\n",
        "if  work_hour >= 72:\n",
        "    print(\"72시간 이상이므로 초과근무\")\n",
        "\n",
        "# 근무 시간이 72시간 이하면 정상근무라는 메시지를 출력합니다.\n",
        "else:\n",
        "    print(\"72시간 이하는 정상근무\")"
      ],
      "metadata": {
        "colab": {
          "base_uri": "https://localhost:8080/"
        },
        "id": "aQ4QaUI78j3U",
        "outputId": "eb3b7474-4a14-4434-85ac-ba21ee7704d3"
      },
      "execution_count": null,
      "outputs": [
        {
          "output_type": "stream",
          "name": "stdout",
          "text": [
            "근무시간입력: 69\n",
            "72시간 이하는 정상근무\n"
          ]
        }
      ]
    },
    {
      "cell_type": "markdown",
      "source": [
        "4. 정수를 입력받아서 짝수인지 홀수인지 판별하는 코드 작성\n",
        " - 변수: num\n",
        " - 수식: (num %2) ! = 0:"
      ],
      "metadata": {
        "id": "X6L30qkw9-aW"
      }
    },
    {
      "cell_type": "code",
      "source": [
        "# 정수를 사용자로부터 입력받습니다. 입력받은 값은 문자열이므로 int() 함수를 사용하여 정수로 변환합니다.\n",
        "num = int(input(\"정수를 입력하시오: \"))\n",
        "\n",
        "# 입력받은 정수를 2로 나눈 나머지가 0인지 판단하여 출력합니다.\n",
        "if (num%2) != 0:\n",
        "    print(\"홀수입니다.\")\n",
        "else:\n",
        "    print(\"짝수입니다.\")"
      ],
      "metadata": {
        "colab": {
          "base_uri": "https://localhost:8080/"
        },
        "id": "hMQaWBjT-t3c",
        "outputId": "d0cf4ce3-9b72-4c5b-b2e6-a3cb016353a0"
      },
      "execution_count": null,
      "outputs": [
        {
          "output_type": "stream",
          "name": "stdout",
          "text": [
            "정수를 입력하시오: 4\n",
            "짝수입니다.\n"
          ]
        }
      ]
    },
    {
      "cell_type": "markdown",
      "source": [
        "5. 사용자의 이름과 나이를 입력받고, 답변하는 코드 작성\n",
        " - 변수 : 성명 - name\n",
        " - 입력 : 나이 - age\n",
        " - 수식: if age <= 20:\n",
        "\n",
        "최종 출력물\n",
        " - 나이를 입력하시오: ***\n",
        " - 나이를 입력하시오: **\n",
        " - (1) 프로그래밍을 배우는 최적의 나이입니다.\n",
        " - (2) 아직도 늦지 않았습니다. 도전정신"
      ],
      "metadata": {
        "id": "5_SU0U9-AkWY"
      }
    },
    {
      "cell_type": "code",
      "source": [
        "# 이름을 사용자로부터 입력받습니다.\n",
        "name = input(\"이름입력:\")\n",
        "\n",
        "# 나이를 사용자로부터 입력받습니다. 입력받은 값은 문자열이므로 int() 함수를 사용하여 정수로 변환합니다.\n",
        "age = int(input(\"나이입력:\"))\n",
        "\n",
        "# 나이가 20세 이하인지 판단하여 출력합니다.\n",
        "if age <= 20:\n",
        "    print(\"프로그래밍을 배우는 최적의 나이입니다.\")\n",
        "else:\n",
        "    print(\"아직도 늦지 않았습니다. 도전정신\")"
      ],
      "metadata": {
        "colab": {
          "base_uri": "https://localhost:8080/"
        },
        "id": "Hfze-yi5BdJL",
        "outputId": "7c6835b0-e9e1-4794-9982-329193ab3fca"
      },
      "execution_count": null,
      "outputs": [
        {
          "output_type": "stream",
          "name": "stdout",
          "text": [
            "이름입력:21\n",
            "나이입력:21\n",
            "아직도 늦지 않았습니다. 도전정신\n"
          ]
        }
      ]
    },
    {
      "cell_type": "code",
      "source": [
        "import random  # 무작위 숫자를 생성하기 위한 모듈을 불러옵니다.\n",
        "\n",
        "def generate_lotto_numbers():  # 로또 번호를 생성하는 함수를 정의합니다.\n",
        "    numbers = list(range(1, 46))  # 1부터 45까지의 숫자를 리스트로 만듭니다.\n",
        "    random.shuffle(numbers)  # 리스트의 숫자들을 무작위로 섞습니다.\n",
        "    return sorted(numbers[:6])  # 섞인 숫자 중에서 앞의 6개를 뽑아 정렬하여 반환합니다.\n",
        "\n",
        "print(generate_lotto_numbers())  # 로또 번호를 생성하고 출력합니다."
      ],
      "metadata": {
        "colab": {
          "base_uri": "https://localhost:8080/"
        },
        "id": "4kp_1SajFADv",
        "outputId": "144459e0-8df1-4db9-82c2-3810f5b553f4"
      },
      "execution_count": null,
      "outputs": [
        {
          "output_type": "stream",
          "name": "stdout",
          "text": [
            "[9, 15, 25, 34, 38, 40]\n"
          ]
        }
      ]
    },
    {
      "cell_type": "code",
      "source": [
        "def check_age(name, age):  # 이름과 나이를 받는 함수를 정의합니다.\n",
        "    if age <= 20:  # 나이가 20살 이하일 경우\n",
        "        print(f\"{name}님, 프로그래밍을 배우는 최적의 나이입니다.\")\n",
        "    else:  # 나이가 20살 초과일 경우\n",
        "        print(f\"{name}님, 아직도 늦지 않았습니다. 도전정신을 가져보세요.\")\n",
        "\n",
        "# 사용자로부터 이름과 나이를 입력받습니다.\n",
        "name = input(\"이름을 입력해주세요: \")\n",
        "age = int(input(\"나이를 입력해주세요: \"))\n",
        "\n",
        "check_age(name, age)  # 함수를 호출하여 메세지를 출력합니다.\n"
      ],
      "metadata": {
        "colab": {
          "base_uri": "https://localhost:8080/"
        },
        "id": "t7cDVhD1GWJK",
        "outputId": "f57b0449-2576-4575-9f0a-c95f637c1084"
      },
      "execution_count": null,
      "outputs": [
        {
          "output_type": "stream",
          "name": "stdout",
          "text": [
            "이름을 입력해주세요: 박요한\n",
            "나이를 입력해주세요: 99\n",
            "박요한님, 아직도 늦지 않았습니다. 도전정신을 가져보세요.\n"
          ]
        }
      ]
    }
  ]
}