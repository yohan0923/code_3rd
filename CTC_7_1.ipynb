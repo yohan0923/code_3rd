{
  "nbformat": 4,
  "nbformat_minor": 0,
  "metadata": {
    "colab": {
      "provenance": [],
      "authorship_tag": "ABX9TyN0XIXMwFAkONLtGEf6WOxS",
      "include_colab_link": true
    },
    "kernelspec": {
      "name": "python3",
      "display_name": "Python 3"
    },
    "language_info": {
      "name": "python"
    }
  },
  "cells": [
    {
      "cell_type": "markdown",
      "metadata": {
        "id": "view-in-github",
        "colab_type": "text"
      },
      "source": [
        "<a href=\"https://colab.research.google.com/github/yohan0923/code_3rd/blob/main/CTC_7_1.ipynb\" target=\"_parent\"><img src=\"https://colab.research.google.com/assets/colab-badge.svg\" alt=\"Open In Colab\"/></a>"
      ]
    },
    {
      "cell_type": "markdown",
      "source": [
        "  1. 사용자로부터 3개의 값 (x,y,z)을 입력받아서 각각 1씩 증가되고, 출력되는 코드 작성"
      ],
      "metadata": {
        "id": "NsWO4ZQfG5Y4"
      }
    },
    {
      "cell_type": "code",
      "execution_count": null,
      "metadata": {
        "colab": {
          "base_uri": "https://localhost:8080/"
        },
        "id": "7UOkGsCGG4dP",
        "outputId": "d2319c98-3e6a-4134-b7d6-957ac3558d26"
      },
      "outputs": [
        {
          "output_type": "stream",
          "name": "stdout",
          "text": [
            "x의 값을 입력하시오:1\n",
            "x의 값을 입력하시오:2\n",
            "x의 값을 입력하시오:3\n",
            "x의 값은 2이며,y의 값은 3이며,z의 값은 4이다 \n"
          ]
        }
      ],
      "source": [
        "x = int(input(\"x의 값을 입력하시오:\"))  # 세 개의 숫자를 사용자로부터 입력받습니다. 입력받은 값은 문자열이므로 int() 함수를 사용하여 정수로 변환합니다.\n",
        "y = int(input(\"x의 값을 입력하시오:\"))\n",
        "z = int(input(\"x의 값을 입력하시오:\"))\n",
        "x = x+1  # 각 숫자에 1을 더합니다.\n",
        "y = y+1  # 각 숫자에 1을 더합니다.\n",
        "z = z+1  # 각 숫자에 1을 더합니다.\n",
        "print(f'x의 값은 {x}이며,y의 값은 {y}이며,z의 값은 {z}이다 ')  # 계산된 결과를 출력합니다."
      ]
    },
    {
      "cell_type": "markdown",
      "source": [
        "2.알바생의 시급과 시간을 계산하여 월급을 출력하는 코드"
      ],
      "metadata": {
        "id": "1UWTmMXgJMPF"
      }
    },
    {
      "cell_type": "code",
      "source": [
        "hours_worked = int(input(\"일한 시간을 입력하시오:\"))  # 일한 시간과 시급을 사용자로부터 입력받습니다. 입력받은 값은 문자열이므로 int() 함수를 사용하여 정수로 변환합니다.\n",
        "pay_rate = int(input(\"시급을 입력하시오(23기준 9620원):\"))\n",
        "monthly_pay = hours_worked * pay_rate  # 월급을 계산합니다.\n",
        "input(f'일한 시간은 {hours_worked}이고, 시급은{pay_rate}이며, 월급은{monthly_pay}입니다:')  # 계산된 월급을 출력합니다."
      ],
      "metadata": {
        "colab": {
          "base_uri": "https://localhost:8080/",
          "height": 90
        },
        "id": "NdCTGGxLJd8a",
        "outputId": "1d70c5bb-fbc6-4633-d757-1b2da0f27f0c"
      },
      "execution_count": null,
      "outputs": [
        {
          "name": "stdout",
          "output_type": "stream",
          "text": [
            "일한 시간을 입력하시오:8\n",
            "시급을 입력하시오(23기준 9620원):9620\n",
            "일한 시간은 8이고, 시급은9620이며, 월급은76960입니다:1\n"
          ]
        },
        {
          "output_type": "execute_result",
          "data": {
            "text/plain": [
              "'1'"
            ],
            "application/vnd.google.colaboratory.intrinsic+json": {
              "type": "string"
            }
          },
          "metadata": {},
          "execution_count": 6
        }
      ]
    },
    {
      "cell_type": "markdown",
      "source": [
        "3. 환율계산하는 코드작성\n",
        " - 원의 변수는 won\n",
        " - 달러의 변수는 usd\n",
        " - 환전의 변수는 exchange"
      ],
      "metadata": {
        "id": "nTRIkG3WLraF"
      }
    },
    {
      "cell_type": "code",
      "source": [
        "won = int(input(\"환전할 금액을 입력(kor):\"))  # 환전할 원화 금액과 달러 환율을 사용자로부터 입력받습니다. 입력받은 값은 문자열이므로 int() 함수를 사용하여 정수로 변환합니다.\n",
        "usd = int(input(\"현재 달러의 환율 입력(231031: 1372): \"))\n",
        "exchange = won // usd  # 원화를 달러로 환전한 금액을 계산합니다. 환율 계산에는 나눗셈 연산자를 사용하고, 정수 나눗셈 연산자를 사용하여 소수점 이하를 버립니다.\n",
        "print(f'환전할 금액은 {won}이며, 달러 금액은 {usd}이고, 환전금액은 {exchange}입니다.')  # 계산된 환전 금액을 출력합니다."
      ],
      "metadata": {
        "colab": {
          "base_uri": "https://localhost:8080/"
        },
        "id": "pSi3D_5PMA9f",
        "outputId": "198b7329-5805-4dce-8025-3c7c11ac569c"
      },
      "execution_count": null,
      "outputs": [
        {
          "output_type": "stream",
          "name": "stdout",
          "text": [
            "환전할 금액을 입력(kor):5000\n",
            "현재 달러의 환율 입력(231031: 1372): 1372\n",
            "환전할 금액은 5000이며, 달러 금액은 1372이고, 환전금액은 3입니다.\n"
          ]
        }
      ]
    },
    {
      "cell_type": "markdown",
      "source": [
        "4. 화씨(fahrenheit)를 섭씨(celcius)로 변환하는 코드 작성"
      ],
      "metadata": {
        "id": "fXOVuHQfN-MU"
      }
    },
    {
      "cell_type": "code",
      "source": [
        "fahrenheit = int(input(\"화씨온도를 입력하시오.: \"))  # 화씨온도를 사용자로부터 입력받습니다. 입력받은 값은 문자열이므로 int() 함수를 사용하여 정수로 변환합니다.\n",
        "celcius = (fahrenheit - 32 / 1.8)  # 화씨온도를 섭씨온도로 변환합니다. 괄호의 위치를 조정하여 올바른 계산을 수행합니다.\n",
        "print(f'화씨온도는 {fahrenheit}도는, 섭씨온도는 {celcius}도 입니다.')  # 변환된 섭씨온도를 출력합니다."
      ],
      "metadata": {
        "colab": {
          "base_uri": "https://localhost:8080/"
        },
        "id": "yKoZsFXCOb4D",
        "outputId": "7ec20cd3-b158-455e-ada7-7bba35545d63"
      },
      "execution_count": null,
      "outputs": [
        {
          "output_type": "stream",
          "name": "stdout",
          "text": [
            "화씨온도를 입력하시오.: 100\n",
            "화씨온도는 100도는, 섭씨온도는 82.22222222222223도 입니다.\n"
          ]
        }
      ]
    },
    {
      "cell_type": "code",
      "source": [
        "celcius = float(input(\"섭씨온도를 입력하시오: \"))  # 섭씨온도를 사용자로부터 입력받습니다. 입력받은 값은 문자열이므로 float() 함수를 사용하여 실수로 변환합니다.\n",
        "fahrenheit = (celcius * 1.8) + 32  # 섭씨온도를 화씨온도로 변환합니다.\n",
        "print(f'섭씨온도는 {celcius}도는, 화씨 {fahrenheit}도 입니다')  # 변환된 화씨온도를 출력합니다."
      ],
      "metadata": {
        "colab": {
          "base_uri": "https://localhost:8080/"
        },
        "id": "nAxqd3fZPzsj",
        "outputId": "09d80247-5215-4fa9-ea20-6ff33209d20f"
      },
      "execution_count": null,
      "outputs": [
        {
          "output_type": "stream",
          "name": "stdout",
          "text": [
            "섭씨온도를 입력하시오: 82.22222222222223\n",
            "섭씨온도는 82.22222222222223도는, 화씨 180.00000000000003도 입니다\n"
          ]
        }
      ]
    },
    {
      "cell_type": "markdown",
      "source": [
        "5. 사용자로부터 2개의 정수를 받아서 합계를 출력"
      ],
      "metadata": {
        "id": "r06fNxa7U02Q"
      }
    },
    {
      "cell_type": "code",
      "source": [
        "x = int(input(\"x의 값을 입력하시오.:\"))  # 두 개의 숫자를 사용자로부터 입력받습니다. 입력받은 값은 문자열이므로 int() 함수를 사용하여 정수로 변환합니다.\n",
        "y = int(input(\"y의 값을 입력하시오.:\"))\n",
        "sum = x + y  # 두 숫자의 합을 계산합니다.\n",
        "print(sum)  # 계산된 합을 출력합니다."
      ],
      "metadata": {
        "colab": {
          "base_uri": "https://localhost:8080/",
          "height": 258
        },
        "id": "xTq4I7dZU8id",
        "outputId": "16346d63-147d-4f83-8e65-8390ef4c3c66"
      },
      "execution_count": null,
      "outputs": [
        {
          "name": "stdout",
          "output_type": "stream",
          "text": [
            "x의 값을 입력하시오.:2\n",
            "y의 값을 입력하시오.:2\n"
          ]
        },
        {
          "output_type": "error",
          "ename": "TypeError",
          "evalue": "ignored",
          "traceback": [
            "\u001b[0;31m---------------------------------------------------------------------------\u001b[0m",
            "\u001b[0;31mTypeError\u001b[0m                                 Traceback (most recent call last)",
            "\u001b[0;32m<ipython-input-34-6b717a92a6a7>\u001b[0m in \u001b[0;36m<cell line: 4>\u001b[0;34m()\u001b[0m\n\u001b[1;32m      2\u001b[0m \u001b[0my\u001b[0m \u001b[0;34m=\u001b[0m \u001b[0mint\u001b[0m\u001b[0;34m(\u001b[0m\u001b[0minput\u001b[0m\u001b[0;34m(\u001b[0m\u001b[0;34m\"y의 값을 입력하시오.:\"\u001b[0m\u001b[0;34m)\u001b[0m\u001b[0;34m)\u001b[0m\u001b[0;34m\u001b[0m\u001b[0;34m\u001b[0m\u001b[0m\n\u001b[1;32m      3\u001b[0m \u001b[0msum\u001b[0m \u001b[0;34m=\u001b[0m \u001b[0mx\u001b[0m \u001b[0;34m+\u001b[0m \u001b[0my\u001b[0m\u001b[0;34m\u001b[0m\u001b[0;34m\u001b[0m\u001b[0m\n\u001b[0;32m----> 4\u001b[0;31m \u001b[0mprint\u001b[0m\u001b[0;34m(\u001b[0m\u001b[0msum\u001b[0m\u001b[0;34m)\u001b[0m\u001b[0;34m\u001b[0m\u001b[0;34m\u001b[0m\u001b[0m\n\u001b[0m",
            "\u001b[0;31mTypeError\u001b[0m: 'int' object is not callable"
          ]
        }
      ]
    },
    {
      "cell_type": "markdown",
      "source": [
        "6. 부가세를 계산하시오."
      ],
      "metadata": {
        "id": "h_BZEJLaYX8_"
      }
    },
    {
      "cell_type": "code",
      "source": [
        "print(\"상품의 가격을 입력하시오.:\")  # 상품의 가격을 입력받습니다. 입력받은 값은 문자열이므로 int() 함수를 사용하여 정수로 변환합니다.\n",
        "price = int(input(\"가격을 입력하시오.:\"))\n",
        "vat = price * 0.1  # 상품 가격의 10%에 해당하는 부가세를 계산합니다.\n",
        "print(vat)  # 계산된 부가세를 출력합니다."
      ],
      "metadata": {
        "colab": {
          "base_uri": "https://localhost:8080/"
        },
        "id": "sUMc-dWfYdB-",
        "outputId": "1d28bee1-f6d7-4948-e0b0-62a1decbb754"
      },
      "execution_count": null,
      "outputs": [
        {
          "output_type": "stream",
          "name": "stdout",
          "text": [
            "상품의 가격을 입력하시오.:\n",
            "가격을 입력하시오.:22\n",
            "2.2\n"
          ]
        }
      ]
    },
    {
      "cell_type": "markdown",
      "source": [],
      "metadata": {
        "id": "p3k8CSEfPx4o"
      }
    },
    {
      "cell_type": "markdown",
      "source": [],
      "metadata": {
        "id": "-fic3jTVG5Xn"
      }
    }
  ]
}