{
  "nbformat": 4,
  "nbformat_minor": 0,
  "metadata": {
    "colab": {
      "provenance": [],
      "authorship_tag": "ABX9TyMhZBqX8T0lGBcVgdtLEsQ+",
      "include_colab_link": true
    },
    "kernelspec": {
      "name": "python3",
      "display_name": "Python 3"
    },
    "language_info": {
      "name": "python"
    }
  },
  "cells": [
    {
      "cell_type": "markdown",
      "metadata": {
        "id": "view-in-github",
        "colab_type": "text"
      },
      "source": [
        "<a href=\"https://colab.research.google.com/github/yohan0923/code_3rd/blob/main/CTC_7_1.ipynb\" target=\"_parent\"><img src=\"https://colab.research.google.com/assets/colab-badge.svg\" alt=\"Open In Colab\"/></a>"
      ]
    },
    {
      "cell_type": "markdown",
      "source": [
        "  1. 사용자로부터 3개의 값 (x,y,z)을 입력받아서 각각 1씩 증가되고, 출력되는 코드 작성"
      ],
      "metadata": {
        "id": "NsWO4ZQfG5Y4"
      }
    },
    {
      "cell_type": "code",
      "execution_count": 2,
      "metadata": {
        "colab": {
          "base_uri": "https://localhost:8080/"
        },
        "id": "7UOkGsCGG4dP",
        "outputId": "d2319c98-3e6a-4134-b7d6-957ac3558d26"
      },
      "outputs": [
        {
          "output_type": "stream",
          "name": "stdout",
          "text": [
            "x의 값을 입력하시오:1\n",
            "x의 값을 입력하시오:2\n",
            "x의 값을 입력하시오:3\n",
            "x의 값은 2이며,y의 값은 3이며,z의 값은 4이다 \n"
          ]
        }
      ],
      "source": [
        "x = int(input(\"x의 값을 입력하시오:\"))\n",
        "y = int(input(\"x의 값을 입력하시오:\"))\n",
        "z = int(input(\"x의 값을 입력하시오:\"))\n",
        "x = x+1\n",
        "y = y+1\n",
        "z = z+1\n",
        "print(f'x의 값은 {x}이며,y의 값은 {y}이며,z의 값은 {z}이다 ')"
      ]
    },
    {
      "cell_type": "markdown",
      "source": [
        "2.알바생의 시급과 시간을 계산하여 월급을 출력하는 코드"
      ],
      "metadata": {
        "id": "1UWTmMXgJMPF"
      }
    },
    {
      "cell_type": "code",
      "source": [
        "hours_worked = int(input(\"일한 시간을 입력하시오:\"))\n",
        "pay_rate = int(input(\"시급을 입력하시오(23기준 9620원):\"))\n",
        "monthly_pay = hours_worked * pay_rate\n",
        "input(f'일한 시간은 {hours_worked}이고, 시급은{pay_rate}이며, 월급은{monthly_pay}입니다:')"
      ],
      "metadata": {
        "colab": {
          "base_uri": "https://localhost:8080/",
          "height": 90
        },
        "id": "NdCTGGxLJd8a",
        "outputId": "1d70c5bb-fbc6-4633-d757-1b2da0f27f0c"
      },
      "execution_count": 6,
      "outputs": [
        {
          "name": "stdout",
          "output_type": "stream",
          "text": [
            "일한 시간을 입력하시오:8\n",
            "시급을 입력하시오(23기준 9620원):9620\n",
            "일한 시간은 8이고, 시급은9620이며, 월급은76960입니다:1\n"
          ]
        },
        {
          "output_type": "execute_result",
          "data": {
            "text/plain": [
              "'1'"
            ],
            "application/vnd.google.colaboratory.intrinsic+json": {
              "type": "string"
            }
          },
          "metadata": {},
          "execution_count": 6
        }
      ]
    },
    {
      "cell_type": "markdown",
      "source": [
        "3. 환율계산하는 코드작성\n",
        " - 원으 변수는 won\n",
        " - 달러의 변수는 usd\n",
        " - 환전의 변수는 exchange"
      ],
      "metadata": {
        "id": "nTRIkG3WLraF"
      }
    },
    {
      "cell_type": "code",
      "source": [
        "won = int(input(\"환전할 금액을 입력(kor):\"))\n",
        "usd = int(input(\"현재 달러의 환율 입력(231031: 1372): \"))\n",
        "exchange = won * usd\n",
        "print(f'환전할 긍액은 {won}이며, 달러 금액은 {usd}이고, 환전금액은 {exchange}입니다.')"
      ],
      "metadata": {
        "colab": {
          "base_uri": "https://localhost:8080/"
        },
        "id": "pSi3D_5PMA9f",
        "outputId": "065c6bcb-a02f-4c34-de6d-865ec5f22af5"
      },
      "execution_count": 8,
      "outputs": [
        {
          "output_type": "stream",
          "name": "stdout",
          "text": [
            "환전할 금액을 입력(kor):5000\n",
            "현재 달러의 환율 입력(231031: 1372): 1372\n",
            "환전할 긍액은 5000이며, 달러 금액은 1372이고, 환전금액은 6860000입니다.\n"
          ]
        }
      ]
    },
    {
      "cell_type": "markdown",
      "source": [
        "4. 화씨(fahrenheit)를 섭씨(celcius)로 변환하는 코드 작성"
      ],
      "metadata": {
        "id": "fXOVuHQfN-MU"
      }
    },
    {
      "cell_type": "code",
      "source": [
        "fahrenheit = int(input(\"화씨온도를 입력하시오: \"))\n",
        "celcius = (fahrenheit - 32 // 1.8)\n",
        "print(f'화씨온도는 {fahrenheit}도는, 섭씨온도는 {celcius}도 입니다')"
      ],
      "metadata": {
        "colab": {
          "base_uri": "https://localhost:8080/"
        },
        "id": "yKoZsFXCOb4D",
        "outputId": "2ea75440-e081-4f5e-e6b1-1d68991ff902"
      },
      "execution_count": 10,
      "outputs": [
        {
          "output_type": "stream",
          "name": "stdout",
          "text": [
            "화씨온도를 입력하시오: 100\n",
            "화씨온도는 100, 섭씨온도는 83.0 입니다\n"
          ]
        }
      ]
    },
    {
      "cell_type": "code",
      "source": [
        "celcius = int(input(\"섭씨온도를 입력하시오: \"))\n",
        "fahrenheit = (celcius * 1.8) + 32\n",
        "print(f'섭씨온도는 {celcius}도는, 화씨 {fahrenheit}도 입니다')"
      ],
      "metadata": {
        "colab": {
          "base_uri": "https://localhost:8080/"
        },
        "id": "nAxqd3fZPzsj",
        "outputId": "df00c552-07ba-4c40-e8ad-369ca413f5cd"
      },
      "execution_count": 12,
      "outputs": [
        {
          "output_type": "stream",
          "name": "stdout",
          "text": [
            "섭씨온도를 입력하시오: 83\n",
            "섭씨온도는 83도는, 화씨 181.4도 입니다\n"
          ]
        }
      ]
    },
    {
      "cell_type": "markdown",
      "source": [],
      "metadata": {
        "id": "p3k8CSEfPx4o"
      }
    },
    {
      "cell_type": "markdown",
      "source": [],
      "metadata": {
        "id": "-fic3jTVG5Xn"
      }
    }
  ]
}