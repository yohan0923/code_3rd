{
  "nbformat": 4,
  "nbformat_minor": 0,
  "metadata": {
    "colab": {
      "provenance": [],
      "authorship_tag": "ABX9TyPJAvhpgvqc7R3T7+Bt+DHY",
      "include_colab_link": true
    },
    "kernelspec": {
      "name": "python3",
      "display_name": "Python 3"
    },
    "language_info": {
      "name": "python"
    }
  },
  "cells": [
    {
      "cell_type": "markdown",
      "metadata": {
        "id": "view-in-github",
        "colab_type": "text"
      },
      "source": [
        "<a href=\"https://colab.research.google.com/github/yohan0923/code_3rd/blob/main/py231019.ipynb\" target=\"_parent\"><img src=\"https://colab.research.google.com/assets/colab-badge.svg\" alt=\"Open In Colab\"/></a>"
      ]
    },
    {
      "cell_type": "markdown",
      "source": [
        "1. To-Do List를 작성하시오.\n",
        "  - 2023년 10월 19일 박요한\n",
        "  - (1) 09:20 도서관에서 책 빌리기\n",
        "  - (2) 11:10 컴퓨팅적 사고와 기초코딩 수업\n",
        "  - (3) 13:00 점심식사\n",
        "  - (4) 14:10 교양수업\n",
        "  - (5) 16:00 파이썬 공부 및 레포트 작성\n",
        "  - (6) 17:40 저녁식사 및 집안일 돕기\n",
        "  - (7) 19:00 LOL하기"
      ],
      "metadata": {
        "id": "fyTbat_wuLaJ"
      }
    },
    {
      "cell_type": "code",
      "source": [
        "print (\"2023년 10월 19일 박요한\")  # 날짜와 이름을 출력합니다.\n",
        "print (\"(1) 09:20 도서관에서 책 빌리기\")  # 각 일정을 순서대로 출력합니다.\n",
        "print (\"(2) 11:10 컴퓨팅적 사고와 기초코딩 수업\")\n",
        "print (\"(3) 13:00 점심식사\")\n",
        "print (\"(4) 14:10 교양수업\")\n",
        "print (\"(5) 16:00 파이썬 공부 및 레포트 작성\")\n",
        "print (\"(6) 17:40 저녁식사 및 집안일 돕기\")\n",
        "print (\"(7) 19:00 LOL하기\")"
      ],
      "metadata": {
        "colab": {
          "base_uri": "https://localhost:8080/"
        },
        "id": "WDsFhwwux-5_",
        "outputId": "6e9a8999-eacb-450a-f0fa-e27688ebb43e"
      },
      "execution_count": null,
      "outputs": [
        {
          "output_type": "stream",
          "name": "stdout",
          "text": [
            "2023년 10월 19일 박요한\n",
            "(1) 09:20 도서관에서 책 빌리기\n",
            "(2) 11:10 컴퓨팅적 사고와 기초코딩 수업\n",
            "(3) 13:00 점심식사\n",
            "(4) 14:10 교양수업\n",
            "(5) 16:00 파이썬 공부 및 레포트 작성\n",
            "(6) 17:40 저녁식사 및 집안일 돕기\n",
            "(7) 19:00 LOL하기\n"
          ]
        }
      ]
    },
    {
      "cell_type": "markdown",
      "source": [
        "2. 인사말 출력하기\n",
        " - 식사하셨습니까? 행님"
      ],
      "metadata": {
        "id": "k-l0qDSXwUM_"
      }
    },
    {
      "cell_type": "code",
      "source": [
        "print (\"식사하셨습니까? 행님.\")  # \"식사하셨습니까? 행님.\" 이라는 문장을 출력합니다."
      ],
      "metadata": {
        "colab": {
          "base_uri": "https://localhost:8080/"
        },
        "id": "rdZWT3hRyMZs",
        "outputId": "6f11fb31-8294-4622-d30f-a55553180568"
      },
      "execution_count": null,
      "outputs": [
        {
          "output_type": "stream",
          "name": "stdout",
          "text": [
            "식사하셨습니까? 행님.\n"
          ]
        }
      ]
    },
    {
      "cell_type": "markdown",
      "source": [
        "3. 학생 4명의 국어 점수를 입력받아서 아래와 같이 출력하시오.\n",
        "  - 박보검: 90점\n",
        "  - 션:     92점\n",
        "  - 도룡용: 80점\n",
        "  - 차은우: 99점\n",
        "  - 국어 점수 순위\n",
        "  - 1등 차은우\n",
        "  - 2등 션\n",
        "  - 3등 박보검\n",
        "  - 4등 도룡용\n"
      ],
      "metadata": {
        "id": "rTZirctPws8e"
      }
    },
    {
      "cell_type": "code",
      "source": [
        "n1 = input(\"박보검 학생 점수를 입력하시오.\")  # 박보검 학생의 점수를 입력 받습니다.\n",
        "n2 = input(\"션 학생 점수를 입력하시오.\")  # 션 학생의 점수를 입력 받습니다.\n",
        "n3 = input(\"도룡용 학생 점수를 입력하시오.\")  # 도룡용 학생의 점수를 입력 받습니다.\n",
        "n4 = input(\"차은우 학생 점수를 입력하시오.\")  # 차은우 학생의 점수를 입력 받습니다.\n",
        "print (\"1등\",\"차은우\",n4)  # 순위를 출력합니다.\n",
        "print (\"2등\",\"션\",n2)\n",
        "print (\"3등\",\"박보검\",n1)\n",
        "print (\"4등\",\"도룡용\",n3)\n"
      ],
      "metadata": {
        "colab": {
          "base_uri": "https://localhost:8080/"
        },
        "id": "hxBC4Ax-0V8l",
        "outputId": "52e51eed-ea2b-4e44-fc10-5d95114e9a69"
      },
      "execution_count": null,
      "outputs": [
        {
          "output_type": "stream",
          "name": "stdout",
          "text": [
            "박보검 학생 점수를 입력하시오.90\n",
            "션 학생 점수를 입력하시오.92\n",
            "도룡용 학생 점수를 입력하시오.80\n",
            "차은우 학생 점수를 입력하시오.99\n",
            "1등 차은우 99\n",
            "2등 션 92\n",
            "3등 박보검 90\n",
            "4등 도룡용 80\n"
          ]
        }
      ]
    },
    {
      "cell_type": "markdown",
      "source": [
        "4. 두개의 점수를 출력받아서 합계와 평균을 출력하시오."
      ],
      "metadata": {
        "id": "WJJ2Lchoxg7_"
      }
    },
    {
      "cell_type": "code",
      "source": [
        "n1 = int(input(\"N1의 값을 입력하시오.:\")) # 두 개의 숫자를 사용자로부터 입력받습니다. 입력받은 값은 문자열이므로 int() 함수를 사용하여 정수로 변환합니다.\n",
        "n2 = int(input(\"N2의 값을 입력하시오.:\"))\n",
        "total = n1 + n2  # 두 숫자의 합을 계산합니다.\n",
        "average = total / 2  # 두 숫자의 평균을 계산합니다.\n",
        "print(average)  # 계산된 평균 값을 출력합니다."
      ],
      "metadata": {
        "colab": {
          "base_uri": "https://localhost:8080/"
        },
        "id": "PGinCfOc6ojp",
        "outputId": "f2f332ce-e56e-4e03-955b-e96bc68cb6df"
      },
      "execution_count": null,
      "outputs": [
        {
          "output_type": "stream",
          "name": "stdout",
          "text": [
            "N1의 값을 입력하시오.:50\n",
            "N2의 값을 입력하시오.:50\n",
            "50.0\n"
          ]
        }
      ]
    }
  ]
}